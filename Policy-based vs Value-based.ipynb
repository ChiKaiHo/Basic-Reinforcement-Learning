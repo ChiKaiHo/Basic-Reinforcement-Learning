{
 "cells": [
  {
   "cell_type": "markdown",
   "metadata": {},
   "source": [
    "# Value-based reinforecement learning\n",
    "Author: C.K. Ho\n",
    "\n",
    "\n",
    "## How to undersand policy-based and value-based reinforecement learning in an interesting way?\n",
    "\n",
    "Imagine that you are a wizard and you have a magic book that includes a lot of spells. However, you don’t know the specific function of each spell. You only know the possible spells you can use in different situation. Hence, you would like to use all the spells in all conditions to understand them. For example, one day when you back home and you find that you cannot open the door. Hence, you open the magic book and find two spells which are related to the door. You use the first spell and then the door is opened, but it also becomes dirty. So you want to try the second one to see whether it’s better. You lock the door and use the second spell. Then the door is crushed. No matter which spell can let you enter your home. But obviously the first one is much more appropriate in this case. To avoid breaking other staffs, you decide to record the usage and advantage of each spell after you use them. Apparently, you will able to choose the best choice for any situation one day. \n",
    "\n",
    "\n",
    "\n",
    "\n",
    "\n",
    "\n",
    "\n",
    "\n",
    "\n",
    "\n"
   ]
  }
 ],
 "metadata": {
  "kernelspec": {
   "display_name": "Python 3",
   "language": "python",
   "name": "python3"
  },
  "language_info": {
   "codemirror_mode": {
    "name": "ipython",
    "version": 3
   },
   "file_extension": ".py",
   "mimetype": "text/x-python",
   "name": "python",
   "nbconvert_exporter": "python",
   "pygments_lexer": "ipython3",
   "version": "3.5.4"
  }
 },
 "nbformat": 4,
 "nbformat_minor": 2
}
